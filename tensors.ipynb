{
 "cells": [
  {
   "metadata": {
    "ExecuteTime": {
     "end_time": "2025-09-21T13:57:00.422485Z",
     "start_time": "2025-09-21T13:56:59.930943Z"
    }
   },
   "cell_type": "code",
   "source": [
    "import torch\n",
    "\n",
    "# Automatically select device\n",
    "if torch.cuda.is_available():\n",
    "    device = torch.device(\"cuda\")\n",
    "    print(\"GPU available via CUDA!\")\n",
    "    print(f\"Using GPU: {torch.cuda.get_device_name(0)}\")\n",
    "elif torch.backends.mps.is_available():\n",
    "    device = torch.device(\"mps\")\n",
    "    print(\"GPU available via Apple MPS backend!\")\n",
    "else:\n",
    "    device = torch.device(\"cpu\")\n",
    "    print(\"No GPU available. Using CPU.\")\n",
    "\n",
    "# Example tensor on the selected device\n",
    "x = torch.tensor([1.0, 2.0, 3.0], device=device)\n",
    "print(f\"Tensor device: {x.device}\")\n",
    "\n",
    "# Example: simple operation\n",
    "y = x * 2\n",
    "print(\"Result:\", y)"
   ],
   "id": "faf783827ed6fa6",
   "outputs": [
    {
     "name": "stdout",
     "output_type": "stream",
     "text": [
      "GPU available via Apple MPS backend!\n",
      "Tensor device: mps:0\n",
      "Result: tensor([2., 4., 6.], device='mps:0')\n"
     ]
    }
   ],
   "execution_count": 3
  },
  {
   "metadata": {},
   "cell_type": "markdown",
   "source": "## Creating a Tensor\n",
   "id": "62bb97c5a9f9574e"
  },
  {
   "metadata": {
    "ExecuteTime": {
     "end_time": "2025-09-21T13:57:00.426676Z",
     "start_time": "2025-09-21T13:57:00.425229Z"
    }
   },
   "cell_type": "code",
   "source": [
    "# using empty\n",
    "a = torch.empty(2,3)"
   ],
   "id": "599f1a1c68236615",
   "outputs": [],
   "execution_count": 4
  },
  {
   "metadata": {
    "ExecuteTime": {
     "end_time": "2025-09-21T13:57:00.433774Z",
     "start_time": "2025-09-21T13:57:00.431193Z"
    }
   },
   "cell_type": "code",
   "source": [
    "# check type\n",
    "type(a)"
   ],
   "id": "bfe575126aa2613f",
   "outputs": [
    {
     "data": {
      "text/plain": [
       "torch.Tensor"
      ]
     },
     "execution_count": 5,
     "metadata": {},
     "output_type": "execute_result"
    }
   ],
   "execution_count": 5
  },
  {
   "metadata": {
    "ExecuteTime": {
     "end_time": "2025-09-21T13:57:00.442791Z",
     "start_time": "2025-09-21T13:57:00.440560Z"
    }
   },
   "cell_type": "code",
   "source": [
    "# using zeros\n",
    "torch.zeros(4,5)"
   ],
   "id": "3688bfe1877e8ec6",
   "outputs": [
    {
     "data": {
      "text/plain": [
       "tensor([[0., 0., 0., 0., 0.],\n",
       "        [0., 0., 0., 0., 0.],\n",
       "        [0., 0., 0., 0., 0.],\n",
       "        [0., 0., 0., 0., 0.]])"
      ]
     },
     "execution_count": 6,
     "metadata": {},
     "output_type": "execute_result"
    }
   ],
   "execution_count": 6
  },
  {
   "metadata": {
    "ExecuteTime": {
     "end_time": "2025-09-21T13:57:00.447338Z",
     "start_time": "2025-09-21T13:57:00.445072Z"
    }
   },
   "cell_type": "code",
   "source": [
    "# using ones\n",
    "torch.ones(2,3)"
   ],
   "id": "9fdbe13cd31950cd",
   "outputs": [
    {
     "data": {
      "text/plain": [
       "tensor([[1., 1., 1.],\n",
       "        [1., 1., 1.]])"
      ]
     },
     "execution_count": 7,
     "metadata": {},
     "output_type": "execute_result"
    }
   ],
   "execution_count": 7
  },
  {
   "metadata": {
    "ExecuteTime": {
     "end_time": "2025-09-21T13:57:00.454400Z",
     "start_time": "2025-09-21T13:57:00.452133Z"
    }
   },
   "cell_type": "code",
   "source": [
    "# using rand , will be different everytime\n",
    "torch.rand(2,3)"
   ],
   "id": "6b4802b22d21d10e",
   "outputs": [
    {
     "data": {
      "text/plain": [
       "tensor([[0.5198, 0.4786, 0.6707],\n",
       "        [0.7984, 0.3958, 0.3878]])"
      ]
     },
     "execution_count": 8,
     "metadata": {},
     "output_type": "execute_result"
    }
   ],
   "execution_count": 8
  },
  {
   "metadata": {
    "ExecuteTime": {
     "end_time": "2025-09-21T13:57:00.461605Z",
     "start_time": "2025-09-21T13:57:00.458563Z"
    }
   },
   "cell_type": "code",
   "source": [
    "# use of manual seed , will remain same everytime\n",
    "torch.manual_seed(100)\n",
    "print(torch.rand(2,3))\n"
   ],
   "id": "a804310cd1c3c9ef",
   "outputs": [
    {
     "name": "stdout",
     "output_type": "stream",
     "text": [
      "tensor([[0.1117, 0.8158, 0.2626],\n",
      "        [0.4839, 0.6765, 0.7539]])\n"
     ]
    }
   ],
   "execution_count": 9
  },
  {
   "metadata": {
    "ExecuteTime": {
     "end_time": "2025-09-21T13:57:00.467895Z",
     "start_time": "2025-09-21T13:57:00.465560Z"
    }
   },
   "cell_type": "code",
   "source": [
    "# custom tensor\n",
    "torch.tensor([[1, 2,3],[4, 5, 6]])"
   ],
   "id": "e933671ac75a706f",
   "outputs": [
    {
     "data": {
      "text/plain": [
       "tensor([[1, 2, 3],\n",
       "        [4, 5, 6]])"
      ]
     },
     "execution_count": 10,
     "metadata": {},
     "output_type": "execute_result"
    }
   ],
   "execution_count": 10
  },
  {
   "metadata": {
    "ExecuteTime": {
     "end_time": "2025-09-21T13:57:00.474606Z",
     "start_time": "2025-09-21T13:57:00.471893Z"
    }
   },
   "cell_type": "code",
   "source": [
    "# other ways\n",
    "\n",
    "# arange\n",
    "print(\"using arange ->\", torch.arange(0,10,2))\n",
    "\n",
    "# using linspace\n",
    "print(\"using linspace ->\", torch.linspace(0,10,10))\n",
    "\n",
    "# using eye\n",
    "print(\"using eye ->\", torch.eye(5))\n",
    "\n",
    "# using full\n",
    "print(\"using full ->\", torch.full((3, 3), 5))"
   ],
   "id": "b52a262177128ec1",
   "outputs": [
    {
     "name": "stdout",
     "output_type": "stream",
     "text": [
      "using arange -> tensor([0, 2, 4, 6, 8])\n",
      "using linspace -> tensor([ 0.0000,  1.1111,  2.2222,  3.3333,  4.4444,  5.5556,  6.6667,  7.7778,\n",
      "         8.8889, 10.0000])\n",
      "using eye -> tensor([[1., 0., 0., 0., 0.],\n",
      "        [0., 1., 0., 0., 0.],\n",
      "        [0., 0., 1., 0., 0.],\n",
      "        [0., 0., 0., 1., 0.],\n",
      "        [0., 0., 0., 0., 1.]])\n",
      "using full -> tensor([[5, 5, 5],\n",
      "        [5, 5, 5],\n",
      "        [5, 5, 5]])\n"
     ]
    }
   ],
   "execution_count": 11
  },
  {
   "metadata": {},
   "cell_type": "markdown",
   "source": "## Tensor Shapes",
   "id": "753136f1561d902"
  },
  {
   "metadata": {
    "ExecuteTime": {
     "end_time": "2025-09-21T13:57:00.480449Z",
     "start_time": "2025-09-21T13:57:00.478578Z"
    }
   },
   "cell_type": "code",
   "source": [
    "b = torch.randn(2,3)\n",
    "b.shape"
   ],
   "id": "51e81e4ff2faeb29",
   "outputs": [
    {
     "data": {
      "text/plain": [
       "torch.Size([2, 3])"
      ]
     },
     "execution_count": 12,
     "metadata": {},
     "output_type": "execute_result"
    }
   ],
   "execution_count": 12
  },
  {
   "metadata": {
    "ExecuteTime": {
     "end_time": "2025-09-21T13:57:00.490147Z",
     "start_time": "2025-09-21T13:57:00.487942Z"
    }
   },
   "cell_type": "code",
   "source": "torch.empty_like(b)",
   "id": "d76563e479055a14",
   "outputs": [
    {
     "data": {
      "text/plain": [
       "tensor([[0., 0., 0.],\n",
       "        [0., 0., 0.]])"
      ]
     },
     "execution_count": 13,
     "metadata": {},
     "output_type": "execute_result"
    }
   ],
   "execution_count": 13
  },
  {
   "metadata": {
    "ExecuteTime": {
     "end_time": "2025-09-21T13:57:00.497658Z",
     "start_time": "2025-09-21T13:57:00.495566Z"
    }
   },
   "cell_type": "code",
   "source": "torch.zeros_like(b)",
   "id": "58d604392b221dd9",
   "outputs": [
    {
     "data": {
      "text/plain": [
       "tensor([[0., 0., 0.],\n",
       "        [0., 0., 0.]])"
      ]
     },
     "execution_count": 14,
     "metadata": {},
     "output_type": "execute_result"
    }
   ],
   "execution_count": 14
  },
  {
   "metadata": {
    "ExecuteTime": {
     "end_time": "2025-09-21T13:57:00.504339Z",
     "start_time": "2025-09-21T13:57:00.502184Z"
    }
   },
   "cell_type": "code",
   "source": "torch.ones_like(b)",
   "id": "2bd23914a49b4f3",
   "outputs": [
    {
     "data": {
      "text/plain": [
       "tensor([[1., 1., 1.],\n",
       "        [1., 1., 1.]])"
      ]
     },
     "execution_count": 15,
     "metadata": {},
     "output_type": "execute_result"
    }
   ],
   "execution_count": 15
  },
  {
   "metadata": {
    "ExecuteTime": {
     "end_time": "2025-09-21T13:57:00.510191Z",
     "start_time": "2025-09-21T13:57:00.508009Z"
    }
   },
   "cell_type": "code",
   "source": "torch.rand_like(b)",
   "id": "ab11c14ab0775e80",
   "outputs": [
    {
     "data": {
      "text/plain": [
       "tensor([[0.2239, 0.3023, 0.1784],\n",
       "        [0.8238, 0.5557, 0.9770]])"
      ]
     },
     "execution_count": 16,
     "metadata": {},
     "output_type": "execute_result"
    }
   ],
   "execution_count": 16
  },
  {
   "metadata": {},
   "cell_type": "markdown",
   "source": "## Tensor Data Types",
   "id": "471fbf089a0555e"
  },
  {
   "metadata": {
    "ExecuteTime": {
     "end_time": "2025-09-21T13:57:00.515105Z",
     "start_time": "2025-09-21T13:57:00.513509Z"
    }
   },
   "cell_type": "code",
   "source": [
    "# find data type\n",
    "b.dtype"
   ],
   "id": "cd52e6a4b4c1bea9",
   "outputs": [
    {
     "data": {
      "text/plain": [
       "torch.float32"
      ]
     },
     "execution_count": 17,
     "metadata": {},
     "output_type": "execute_result"
    }
   ],
   "execution_count": 17
  },
  {
   "metadata": {
    "ExecuteTime": {
     "end_time": "2025-09-21T13:57:00.522045Z",
     "start_time": "2025-09-21T13:57:00.519898Z"
    }
   },
   "cell_type": "code",
   "source": [
    "# assign data type\n",
    "torch.tensor([0.2,0.2,0.3], dtype=torch.int32)"
   ],
   "id": "89cf6c07b866d2e6",
   "outputs": [
    {
     "data": {
      "text/plain": [
       "tensor([0, 0, 0], dtype=torch.int32)"
      ]
     },
     "execution_count": 18,
     "metadata": {},
     "output_type": "execute_result"
    }
   ],
   "execution_count": 18
  },
  {
   "metadata": {
    "ExecuteTime": {
     "end_time": "2025-09-21T13:57:00.529481Z",
     "start_time": "2025-09-21T13:57:00.526494Z"
    }
   },
   "cell_type": "code",
   "source": "torch.tensor([1,2,3], dtype=torch.float16)",
   "id": "40b445b9b8dd98da",
   "outputs": [
    {
     "data": {
      "text/plain": [
       "tensor([1., 2., 3.], dtype=torch.float16)"
      ]
     },
     "execution_count": 19,
     "metadata": {},
     "output_type": "execute_result"
    }
   ],
   "execution_count": 19
  },
  {
   "metadata": {},
   "cell_type": "markdown",
   "source": [
    "| **Data Type**             | **Dtype**         | **Description**                                                                                                                                                                |\n",
    "|---------------------------|-------------------|--------------------------------------------------------------------------------------------------------------------------------------------------------------------------------|\n",
    "| **32-bit Floating Point** | `torch.float32`   | Standard floating-point type used for most deep learning tasks. Provides a balance between precision and memory usage.                                                         |\n",
    "| **64-bit Floating Point** | `torch.float64`   | Double-precision floating point. Useful for high-precision numerical tasks but uses more memory.                                                                               |\n",
    "| **16-bit Floating Point** | `torch.float16`   | Half-precision floating point. Commonly used in mixed-precision training to reduce memory and computational overhead on modern GPUs.                                            |\n",
    "| **BFloat16**              | `torch.bfloat16`  | Brain floating-point format with reduced precision compared to `float16`. Used in mixed-precision training, especially on TPUs.                                                |\n",
    "| **8-bit Floating Point**  | `torch.float8`    | Ultra-low-precision floating point. Used for experimental applications and extreme memory-constrained environments (less common).                                               |\n",
    "| **8-bit Integer**         | `torch.int8`      | 8-bit signed integer. Used for quantized models to save memory and computation in inference.                                                                                   |\n",
    "| **16-bit Integer**        | `torch.int16`     | 16-bit signed integer. Useful for special numerical tasks requiring intermediate precision.                                                                                    |\n",
    "| **32-bit Integer**        | `torch.int32`     | Standard signed integer type. Commonly used for indexing and general-purpose numerical tasks.                                                                                  |\n",
    "| **64-bit Integer**        | `torch.int64`     | Long integer type. Often used for large indexing arrays or for tasks involving large numbers.                                                                                  |\n",
    "| **8-bit Unsigned Integer**| `torch.uint8`     | 8-bit unsigned integer. Commonly used for image data (e.g., pixel values between 0 and 255).                                                                                    |\n",
    "| **Boolean**               | `torch.bool`      | Boolean type, stores `True` or `False` values. Often used for masks in logical operations.                                                                                      |\n",
    "| **Complex 64**            | `torch.complex64` | Complex number type with 32-bit real and 32-bit imaginary parts. Used for scientific and signal processing tasks.                                                               |\n",
    "| **Complex 128**           | `torch.complex128`| Complex number type with 64-bit real and 64-bit imaginary parts. Offers higher precision but uses more memory.                                                                 |\n",
    "| **Quantized Integer**     | `torch.qint8`     | Quantized signed 8-bit integer. Used in quantized models for efficient inference.                                                                                              |\n",
    "| **Quantized Unsigned Integer** | `torch.quint8` | Quantized unsigned 8-bit integer. Often used for quantized tensors in image-related tasks.                                                                                     |\n"
   ],
   "id": "d890d48a4224b87f"
  },
  {
   "metadata": {},
   "cell_type": "markdown",
   "source": "### 1. Scalar operation",
   "id": "3fe178d48565dc58"
  },
  {
   "metadata": {
    "ExecuteTime": {
     "end_time": "2025-09-21T13:57:00.536198Z",
     "start_time": "2025-09-21T13:57:00.533082Z"
    }
   },
   "cell_type": "code",
   "source": [
    "x = torch.rand(2,2)\n",
    "x"
   ],
   "id": "6aef096b964c84d3",
   "outputs": [
    {
     "data": {
      "text/plain": [
       "tensor([[0.4440, 0.9478],\n",
       "        [0.7445, 0.4892]])"
      ]
     },
     "execution_count": 20,
     "metadata": {},
     "output_type": "execute_result"
    }
   ],
   "execution_count": 20
  },
  {
   "metadata": {
    "ExecuteTime": {
     "end_time": "2025-09-21T13:57:00.544067Z",
     "start_time": "2025-09-21T13:57:00.541129Z"
    }
   },
   "cell_type": "code",
   "source": [
    "# addition\n",
    "x + 2\n",
    "# substraction\n",
    "x - 2\n",
    "# multiplication\n",
    "x * 3\n",
    "# division\n",
    "x / 3\n",
    "# int division\n",
    "(x * 100)//3\n",
    "# mod\n",
    "((x * 100)//3)%2\n",
    "# power\n",
    "x**2"
   ],
   "id": "150faf4cabdf10e7",
   "outputs": [
    {
     "data": {
      "text/plain": [
       "tensor([[0.1972, 0.8984],\n",
       "        [0.5543, 0.2393]])"
      ]
     },
     "execution_count": 21,
     "metadata": {},
     "output_type": "execute_result"
    }
   ],
   "execution_count": 21
  },
  {
   "metadata": {},
   "cell_type": "markdown",
   "source": "## 2. Element wise operation",
   "id": "3e2755ca209ae399"
  },
  {
   "metadata": {
    "ExecuteTime": {
     "end_time": "2025-09-21T13:57:00.551877Z",
     "start_time": "2025-09-21T13:57:00.549487Z"
    }
   },
   "cell_type": "code",
   "source": [
    "a = torch.tensor([[7,8,9],[10,11,12]])\n",
    "b = torch.tensor([[1,2,3],[4,5,6]])\n",
    "\n",
    "print(a)\n",
    "print(b)"
   ],
   "id": "230d1674648bea58",
   "outputs": [
    {
     "name": "stdout",
     "output_type": "stream",
     "text": [
      "tensor([[ 7,  8,  9],\n",
      "        [10, 11, 12]])\n",
      "tensor([[1, 2, 3],\n",
      "        [4, 5, 6]])\n"
     ]
    }
   ],
   "execution_count": 22
  },
  {
   "metadata": {
    "ExecuteTime": {
     "end_time": "2025-09-21T13:57:00.565420Z",
     "start_time": "2025-09-21T13:57:00.563062Z"
    }
   },
   "cell_type": "code",
   "source": [
    "# add\n",
    "a + b\n",
    "# # sub\n",
    "a - b\n",
    "# # multiply\n",
    "a * b\n",
    "# # division\n",
    "a / b\n",
    "# # power\n",
    "a ** b\n",
    "# # mod\n",
    "a % b"
   ],
   "id": "d942a5fd7e61e9cd",
   "outputs": [
    {
     "data": {
      "text/plain": [
       "tensor([[0, 0, 0],\n",
       "        [2, 1, 0]])"
      ]
     },
     "execution_count": 23,
     "metadata": {},
     "output_type": "execute_result"
    }
   ],
   "execution_count": 23
  },
  {
   "metadata": {},
   "cell_type": "markdown",
   "source": "## 3. Reduction operation",
   "id": "4835ab10e111bafb"
  },
  {
   "metadata": {
    "ExecuteTime": {
     "end_time": "2025-09-23T00:18:21.866958Z",
     "start_time": "2025-09-23T00:18:21.863583Z"
    }
   },
   "cell_type": "code",
   "source": [
    "e = torch.randint(size=(2,3), low=0, high=10, dtype=torch.float32)\n",
    "e"
   ],
   "id": "d84bf88493073522",
   "outputs": [
    {
     "data": {
      "text/plain": [
       "tensor([[8., 0., 7.],\n",
       "        [0., 0., 9.]])"
      ]
     },
     "execution_count": 24,
     "metadata": {},
     "output_type": "execute_result"
    }
   ],
   "execution_count": 24
  },
  {
   "metadata": {
    "ExecuteTime": {
     "end_time": "2025-09-23T00:19:55.904959Z",
     "start_time": "2025-09-23T00:19:55.900891Z"
    }
   },
   "cell_type": "code",
   "source": [
    "# sum\n",
    "sum = torch.sum(e)\n",
    "print(sum)\n",
    "# sum along columns\n",
    "col_sum = torch.sum(e, dim=0)\n",
    "print(col_sum)\n",
    "# sum along rows\n",
    "row_sum = torch.sum(e, dim=1)\n",
    "print(row_sum)"
   ],
   "id": "6742c47b26792bc",
   "outputs": [
    {
     "name": "stdout",
     "output_type": "stream",
     "text": [
      "tensor(24.)\n",
      "tensor([ 8.,  0., 16.])\n",
      "tensor([15.,  9.])\n"
     ]
    }
   ],
   "execution_count": 27
  },
  {
   "metadata": {
    "ExecuteTime": {
     "end_time": "2025-09-23T00:21:47.340896Z",
     "start_time": "2025-09-23T00:21:47.338419Z"
    }
   },
   "cell_type": "code",
   "source": [
    "# mean\n",
    "mean = torch.mean(e)\n",
    "print(mean)\n",
    "# mean along col\n",
    "col_mean = torch.mean(e, dim=0)\n",
    "print(col_mean)"
   ],
   "id": "8acbbef699940c6c",
   "outputs": [
    {
     "name": "stdout",
     "output_type": "stream",
     "text": [
      "tensor(4.)\n",
      "tensor([4., 0., 8.])\n"
     ]
    }
   ],
   "execution_count": 28
  },
  {
   "metadata": {
    "ExecuteTime": {
     "end_time": "2025-09-23T00:22:56.013201Z",
     "start_time": "2025-09-23T00:22:56.010560Z"
    }
   },
   "cell_type": "code",
   "source": [
    "# median\n",
    "median = torch.median(e)\n",
    "print(median)"
   ],
   "id": "b15b96870561874e",
   "outputs": [
    {
     "name": "stdout",
     "output_type": "stream",
     "text": [
      "tensor(0.)\n"
     ]
    }
   ],
   "execution_count": 30
  },
  {
   "metadata": {
    "ExecuteTime": {
     "end_time": "2025-09-23T00:26:05.588494Z",
     "start_time": "2025-09-23T00:26:05.584556Z"
    }
   },
   "cell_type": "code",
   "source": [
    "# max and min\n",
    "print(torch.max(e))\n",
    "print(torch.min(e))"
   ],
   "id": "477e1cb0b2f948f3",
   "outputs": [
    {
     "name": "stdout",
     "output_type": "stream",
     "text": [
      "tensor(9.)\n",
      "tensor(0.)\n"
     ]
    }
   ],
   "execution_count": 32
  },
  {
   "metadata": {
    "ExecuteTime": {
     "end_time": "2025-09-23T00:26:20.340518Z",
     "start_time": "2025-09-23T00:26:20.336718Z"
    }
   },
   "cell_type": "code",
   "source": [
    "# product\n",
    "torch.prod(e)"
   ],
   "id": "32c0896b7cf42e7d",
   "outputs": [
    {
     "data": {
      "text/plain": [
       "tensor(0.)"
      ]
     },
     "execution_count": 33,
     "metadata": {},
     "output_type": "execute_result"
    }
   ],
   "execution_count": 33
  },
  {
   "metadata": {
    "ExecuteTime": {
     "end_time": "2025-09-23T00:26:35.163023Z",
     "start_time": "2025-09-23T00:26:35.158786Z"
    }
   },
   "cell_type": "code",
   "source": [
    "# standard deviation\n",
    "torch.std(e)"
   ],
   "id": "e0bbd5d46c68d8ae",
   "outputs": [
    {
     "data": {
      "text/plain": [
       "tensor(4.4272)"
      ]
     },
     "execution_count": 34,
     "metadata": {},
     "output_type": "execute_result"
    }
   ],
   "execution_count": 34
  },
  {
   "metadata": {
    "ExecuteTime": {
     "end_time": "2025-09-23T00:26:46.080420Z",
     "start_time": "2025-09-23T00:26:46.076317Z"
    }
   },
   "cell_type": "code",
   "source": [
    "# variance\n",
    "torch.var(e)"
   ],
   "id": "5ad1993b2289c165",
   "outputs": [
    {
     "data": {
      "text/plain": [
       "tensor(19.6000)"
      ]
     },
     "execution_count": 35,
     "metadata": {},
     "output_type": "execute_result"
    }
   ],
   "execution_count": 35
  },
  {
   "metadata": {
    "ExecuteTime": {
     "end_time": "2025-09-23T00:26:57.612186Z",
     "start_time": "2025-09-23T00:26:57.608903Z"
    }
   },
   "cell_type": "code",
   "source": [
    "# argmax\n",
    "torch.argmax(e)"
   ],
   "id": "816514f58949b25d",
   "outputs": [
    {
     "data": {
      "text/plain": [
       "tensor(5)"
      ]
     },
     "execution_count": 36,
     "metadata": {},
     "output_type": "execute_result"
    }
   ],
   "execution_count": 36
  },
  {
   "metadata": {
    "ExecuteTime": {
     "end_time": "2025-09-23T00:27:10.350078Z",
     "start_time": "2025-09-23T00:27:10.345398Z"
    }
   },
   "cell_type": "code",
   "source": [
    "# argmin\n",
    "torch.argmin(e)"
   ],
   "id": "9e82f50856abc63d",
   "outputs": [
    {
     "data": {
      "text/plain": [
       "tensor(1)"
      ]
     },
     "execution_count": 37,
     "metadata": {},
     "output_type": "execute_result"
    }
   ],
   "execution_count": 37
  }
 ],
 "metadata": {
  "kernelspec": {
   "display_name": "Python 3",
   "language": "python",
   "name": "python3"
  },
  "language_info": {
   "codemirror_mode": {
    "name": "ipython",
    "version": 2
   },
   "file_extension": ".py",
   "mimetype": "text/x-python",
   "name": "python",
   "nbconvert_exporter": "python",
   "pygments_lexer": "ipython2",
   "version": "2.7.6"
  }
 },
 "nbformat": 4,
 "nbformat_minor": 5
}
