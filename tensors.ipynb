{
 "cells": [
  {
   "metadata": {
    "ExecuteTime": {
     "end_time": "2025-09-21T00:50:19.173682Z",
     "start_time": "2025-09-21T00:50:16.934238Z"
    }
   },
   "cell_type": "code",
   "source": [
    "import torch\n",
    "\n",
    "# Automatically select device\n",
    "if torch.cuda.is_available():\n",
    "    device = torch.device(\"cuda\")\n",
    "    print(\"GPU available via CUDA!\")\n",
    "    print(f\"Using GPU: {torch.cuda.get_device_name(0)}\")\n",
    "elif torch.backends.mps.is_available():\n",
    "    device = torch.device(\"mps\")\n",
    "    print(\"GPU available via Apple MPS backend!\")\n",
    "else:\n",
    "    device = torch.device(\"cpu\")\n",
    "    print(\"No GPU available. Using CPU.\")\n",
    "\n",
    "# Example tensor on the selected device\n",
    "x = torch.tensor([1.0, 2.0, 3.0], device=device)\n",
    "print(f\"Tensor device: {x.device}\")\n",
    "\n",
    "# Example: simple operation\n",
    "y = x * 2\n",
    "print(\"Result:\", y)"
   ],
   "id": "faf783827ed6fa6",
   "outputs": [
    {
     "name": "stdout",
     "output_type": "stream",
     "text": [
      "GPU available via Apple MPS backend!\n",
      "Tensor device: mps:0\n",
      "Result: tensor([2., 4., 6.], device='mps:0')\n"
     ]
    }
   ],
   "execution_count": 1
  },
  {
   "metadata": {},
   "cell_type": "markdown",
   "source": "## Creating a Tensor\n",
   "id": "62bb97c5a9f9574e"
  },
  {
   "metadata": {
    "ExecuteTime": {
     "end_time": "2025-09-21T00:56:56.698736Z",
     "start_time": "2025-09-21T00:56:56.696109Z"
    }
   },
   "cell_type": "code",
   "source": [
    "# using empty\n",
    "a = torch.empty(2,3)"
   ],
   "id": "599f1a1c68236615",
   "outputs": [],
   "execution_count": 12
  },
  {
   "metadata": {
    "ExecuteTime": {
     "end_time": "2025-09-21T00:56:58.003097Z",
     "start_time": "2025-09-21T00:56:57.999749Z"
    }
   },
   "cell_type": "code",
   "source": [
    "# check type\n",
    "type(a)"
   ],
   "id": "bfe575126aa2613f",
   "outputs": [
    {
     "data": {
      "text/plain": [
       "torch.Tensor"
      ]
     },
     "execution_count": 13,
     "metadata": {},
     "output_type": "execute_result"
    }
   ],
   "execution_count": 13
  },
  {
   "metadata": {
    "ExecuteTime": {
     "end_time": "2025-09-21T00:58:12.445990Z",
     "start_time": "2025-09-21T00:58:12.442231Z"
    }
   },
   "cell_type": "code",
   "source": [
    "# using zeros\n",
    "torch.zeros(4,5)"
   ],
   "id": "3688bfe1877e8ec6",
   "outputs": [
    {
     "data": {
      "text/plain": [
       "tensor([[0., 0., 0., 0., 0.],\n",
       "        [0., 0., 0., 0., 0.],\n",
       "        [0., 0., 0., 0., 0.],\n",
       "        [0., 0., 0., 0., 0.]])"
      ]
     },
     "execution_count": 14,
     "metadata": {},
     "output_type": "execute_result"
    }
   ],
   "execution_count": 14
  },
  {
   "metadata": {
    "ExecuteTime": {
     "end_time": "2025-09-21T00:59:00.781319Z",
     "start_time": "2025-09-21T00:59:00.776795Z"
    }
   },
   "cell_type": "code",
   "source": [
    "# using ones\n",
    "torch.ones(2,3)"
   ],
   "id": "9fdbe13cd31950cd",
   "outputs": [
    {
     "data": {
      "text/plain": [
       "tensor([[1., 1., 1.],\n",
       "        [1., 1., 1.]])"
      ]
     },
     "execution_count": 15,
     "metadata": {},
     "output_type": "execute_result"
    }
   ],
   "execution_count": 15
  },
  {
   "metadata": {
    "ExecuteTime": {
     "end_time": "2025-09-21T01:04:06.116173Z",
     "start_time": "2025-09-21T01:04:06.111539Z"
    }
   },
   "cell_type": "code",
   "source": [
    "# using rand , will be different everytime\n",
    "torch.rand(2,3)"
   ],
   "id": "6b4802b22d21d10e",
   "outputs": [
    {
     "data": {
      "text/plain": [
       "tensor([[0.9535, 0.7064, 0.1629],\n",
       "        [0.8902, 0.5163, 0.0359]])"
      ]
     },
     "execution_count": 36,
     "metadata": {},
     "output_type": "execute_result"
    }
   ],
   "execution_count": 36
  },
  {
   "metadata": {
    "ExecuteTime": {
     "end_time": "2025-09-21T01:04:17.363Z",
     "start_time": "2025-09-21T01:04:17.358072Z"
    }
   },
   "cell_type": "code",
   "source": [
    "# use of manual seed , will remain same everytime\n",
    "torch.manual_seed(100)\n",
    "print(torch.rand(2,3))\n"
   ],
   "id": "a804310cd1c3c9ef",
   "outputs": [
    {
     "name": "stdout",
     "output_type": "stream",
     "text": [
      "tensor([[0.1117, 0.8158, 0.2626],\n",
      "        [0.4839, 0.6765, 0.7539]])\n"
     ]
    }
   ],
   "execution_count": 42
  }
 ],
 "metadata": {
  "kernelspec": {
   "display_name": "Python 3",
   "language": "python",
   "name": "python3"
  },
  "language_info": {
   "codemirror_mode": {
    "name": "ipython",
    "version": 2
   },
   "file_extension": ".py",
   "mimetype": "text/x-python",
   "name": "python",
   "nbconvert_exporter": "python",
   "pygments_lexer": "ipython2",
   "version": "2.7.6"
  }
 },
 "nbformat": 4,
 "nbformat_minor": 5
}
