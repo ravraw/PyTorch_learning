{
 "cells": [
  {
   "metadata": {
    "ExecuteTime": {
     "end_time": "2025-09-21T00:50:19.173682Z",
     "start_time": "2025-09-21T00:50:16.934238Z"
    }
   },
   "cell_type": "code",
   "source": [
    "import torch\n",
    "\n",
    "# Automatically select device\n",
    "if torch.cuda.is_available():\n",
    "    device = torch.device(\"cuda\")\n",
    "    print(\"GPU available via CUDA!\")\n",
    "    print(f\"Using GPU: {torch.cuda.get_device_name(0)}\")\n",
    "elif torch.backends.mps.is_available():\n",
    "    device = torch.device(\"mps\")\n",
    "    print(\"GPU available via Apple MPS backend!\")\n",
    "else:\n",
    "    device = torch.device(\"cpu\")\n",
    "    print(\"No GPU available. Using CPU.\")\n",
    "\n",
    "# Example tensor on the selected device\n",
    "x = torch.tensor([1.0, 2.0, 3.0], device=device)\n",
    "print(f\"Tensor device: {x.device}\")\n",
    "\n",
    "# Example: simple operation\n",
    "y = x * 2\n",
    "print(\"Result:\", y)"
   ],
   "id": "faf783827ed6fa6",
   "outputs": [
    {
     "name": "stdout",
     "output_type": "stream",
     "text": [
      "GPU available via Apple MPS backend!\n",
      "Tensor device: mps:0\n",
      "Result: tensor([2., 4., 6.], device='mps:0')\n"
     ]
    }
   ],
   "execution_count": 1
  },
  {
   "metadata": {},
   "cell_type": "markdown",
   "source": "## Creating a Tensor\n",
   "id": "62bb97c5a9f9574e"
  },
  {
   "metadata": {
    "ExecuteTime": {
     "end_time": "2025-09-21T00:56:56.698736Z",
     "start_time": "2025-09-21T00:56:56.696109Z"
    }
   },
   "cell_type": "code",
   "source": [
    "# using empty\n",
    "a = torch.empty(2,3)"
   ],
   "id": "599f1a1c68236615",
   "outputs": [],
   "execution_count": 12
  },
  {
   "metadata": {
    "ExecuteTime": {
     "end_time": "2025-09-21T00:56:58.003097Z",
     "start_time": "2025-09-21T00:56:57.999749Z"
    }
   },
   "cell_type": "code",
   "source": [
    "# check type\n",
    "type(a)"
   ],
   "id": "bfe575126aa2613f",
   "outputs": [
    {
     "data": {
      "text/plain": [
       "torch.Tensor"
      ]
     },
     "execution_count": 13,
     "metadata": {},
     "output_type": "execute_result"
    }
   ],
   "execution_count": 13
  },
  {
   "metadata": {
    "ExecuteTime": {
     "end_time": "2025-09-21T00:58:12.445990Z",
     "start_time": "2025-09-21T00:58:12.442231Z"
    }
   },
   "cell_type": "code",
   "source": [
    "# using zeros\n",
    "torch.zeros(4,5)"
   ],
   "id": "3688bfe1877e8ec6",
   "outputs": [
    {
     "data": {
      "text/plain": [
       "tensor([[0., 0., 0., 0., 0.],\n",
       "        [0., 0., 0., 0., 0.],\n",
       "        [0., 0., 0., 0., 0.],\n",
       "        [0., 0., 0., 0., 0.]])"
      ]
     },
     "execution_count": 14,
     "metadata": {},
     "output_type": "execute_result"
    }
   ],
   "execution_count": 14
  },
  {
   "metadata": {
    "ExecuteTime": {
     "end_time": "2025-09-21T00:59:00.781319Z",
     "start_time": "2025-09-21T00:59:00.776795Z"
    }
   },
   "cell_type": "code",
   "source": [
    "# using ones\n",
    "torch.ones(2,3)"
   ],
   "id": "9fdbe13cd31950cd",
   "outputs": [
    {
     "data": {
      "text/plain": [
       "tensor([[1., 1., 1.],\n",
       "        [1., 1., 1.]])"
      ]
     },
     "execution_count": 15,
     "metadata": {},
     "output_type": "execute_result"
    }
   ],
   "execution_count": 15
  },
  {
   "metadata": {
    "ExecuteTime": {
     "end_time": "2025-09-21T01:04:06.116173Z",
     "start_time": "2025-09-21T01:04:06.111539Z"
    }
   },
   "cell_type": "code",
   "source": [
    "# using rand , will be different everytime\n",
    "torch.rand(2,3)"
   ],
   "id": "6b4802b22d21d10e",
   "outputs": [
    {
     "data": {
      "text/plain": [
       "tensor([[0.9535, 0.7064, 0.1629],\n",
       "        [0.8902, 0.5163, 0.0359]])"
      ]
     },
     "execution_count": 36,
     "metadata": {},
     "output_type": "execute_result"
    }
   ],
   "execution_count": 36
  },
  {
   "metadata": {
    "ExecuteTime": {
     "end_time": "2025-09-21T01:04:17.363Z",
     "start_time": "2025-09-21T01:04:17.358072Z"
    }
   },
   "cell_type": "code",
   "source": [
    "# use of manual seed , will remain same everytime\n",
    "torch.manual_seed(100)\n",
    "print(torch.rand(2,3))\n"
   ],
   "id": "a804310cd1c3c9ef",
   "outputs": [
    {
     "name": "stdout",
     "output_type": "stream",
     "text": [
      "tensor([[0.1117, 0.8158, 0.2626],\n",
      "        [0.4839, 0.6765, 0.7539]])\n"
     ]
    }
   ],
   "execution_count": 42
  },
  {
   "metadata": {
    "ExecuteTime": {
     "end_time": "2025-09-21T01:07:41.996607Z",
     "start_time": "2025-09-21T01:07:41.992764Z"
    }
   },
   "cell_type": "code",
   "source": [
    "# custom tensor\n",
    "torch.tensor([[1, 2,3],[4, 5, 6]])"
   ],
   "id": "e933671ac75a706f",
   "outputs": [
    {
     "data": {
      "text/plain": [
       "tensor([[1, 2, 3],\n",
       "        [4, 5, 6]])"
      ]
     },
     "execution_count": 46,
     "metadata": {},
     "output_type": "execute_result"
    }
   ],
   "execution_count": 46
  },
  {
   "metadata": {
    "ExecuteTime": {
     "end_time": "2025-09-21T01:11:18.990733Z",
     "start_time": "2025-09-21T01:11:18.986710Z"
    }
   },
   "cell_type": "code",
   "source": [
    "# other ways\n",
    "\n",
    "# arange\n",
    "print(\"using arange ->\", torch.arange(0,10,2))\n",
    "\n",
    "# using linspace\n",
    "print(\"using linspace ->\", torch.linspace(0,10,10))\n",
    "\n",
    "# using eye\n",
    "print(\"using eye ->\", torch.eye(5))\n",
    "\n",
    "# using full\n",
    "print(\"using full ->\", torch.full((3, 3), 5))"
   ],
   "id": "b52a262177128ec1",
   "outputs": [
    {
     "name": "stdout",
     "output_type": "stream",
     "text": [
      "using arange -> tensor([0, 2, 4, 6, 8])\n",
      "using linspace -> tensor([ 0.0000,  1.1111,  2.2222,  3.3333,  4.4444,  5.5556,  6.6667,  7.7778,\n",
      "         8.8889, 10.0000])\n",
      "using eye -> tensor([[1., 0., 0., 0., 0.],\n",
      "        [0., 1., 0., 0., 0.],\n",
      "        [0., 0., 1., 0., 0.],\n",
      "        [0., 0., 0., 1., 0.],\n",
      "        [0., 0., 0., 0., 1.]])\n",
      "using full -> tensor([[5, 5, 5],\n",
      "        [5, 5, 5],\n",
      "        [5, 5, 5]])\n"
     ]
    }
   ],
   "execution_count": 50
  },
  {
   "metadata": {},
   "cell_type": "markdown",
   "source": "## Tensor Shapes",
   "id": "753136f1561d902"
  },
  {
   "metadata": {
    "ExecuteTime": {
     "end_time": "2025-09-21T01:16:50.675099Z",
     "start_time": "2025-09-21T01:16:50.671533Z"
    }
   },
   "cell_type": "code",
   "source": [
    "b = torch.randn(2,3)\n",
    "b.shape"
   ],
   "id": "51e81e4ff2faeb29",
   "outputs": [
    {
     "data": {
      "text/plain": [
       "torch.Size([2, 3])"
      ]
     },
     "execution_count": 55,
     "metadata": {},
     "output_type": "execute_result"
    }
   ],
   "execution_count": 55
  },
  {
   "metadata": {
    "ExecuteTime": {
     "end_time": "2025-09-21T01:17:14.483725Z",
     "start_time": "2025-09-21T01:17:14.480751Z"
    }
   },
   "cell_type": "code",
   "source": "torch.empty_like(b)",
   "id": "d76563e479055a14",
   "outputs": [
    {
     "data": {
      "text/plain": [
       "tensor([[0., 0., 0.],\n",
       "        [0., 0., 0.]])"
      ]
     },
     "execution_count": 56,
     "metadata": {},
     "output_type": "execute_result"
    }
   ],
   "execution_count": 56
  },
  {
   "metadata": {
    "ExecuteTime": {
     "end_time": "2025-09-21T01:17:37.615793Z",
     "start_time": "2025-09-21T01:17:37.610986Z"
    }
   },
   "cell_type": "code",
   "source": "torch.zeros_like(b)",
   "id": "58d604392b221dd9",
   "outputs": [
    {
     "data": {
      "text/plain": [
       "tensor([[0., 0., 0.],\n",
       "        [0., 0., 0.]])"
      ]
     },
     "execution_count": 57,
     "metadata": {},
     "output_type": "execute_result"
    }
   ],
   "execution_count": 57
  },
  {
   "metadata": {
    "ExecuteTime": {
     "end_time": "2025-09-21T01:18:31.231794Z",
     "start_time": "2025-09-21T01:18:31.228856Z"
    }
   },
   "cell_type": "code",
   "source": "torch.ones_like(b)",
   "id": "2bd23914a49b4f3",
   "outputs": [
    {
     "data": {
      "text/plain": [
       "tensor([[1., 1., 1.],\n",
       "        [1., 1., 1.]])"
      ]
     },
     "execution_count": 58,
     "metadata": {},
     "output_type": "execute_result"
    }
   ],
   "execution_count": 58
  },
  {
   "metadata": {
    "ExecuteTime": {
     "end_time": "2025-09-21T01:18:45.396316Z",
     "start_time": "2025-09-21T01:18:45.392057Z"
    }
   },
   "cell_type": "code",
   "source": "torch.rand_like(b)",
   "id": "ab11c14ab0775e80",
   "outputs": [
    {
     "data": {
      "text/plain": [
       "tensor([[0.7775, 0.6179, 0.3379],\n",
       "        [0.2170, 0.9454, 0.7116]])"
      ]
     },
     "execution_count": 59,
     "metadata": {},
     "output_type": "execute_result"
    }
   ],
   "execution_count": 59
  },
  {
   "metadata": {},
   "cell_type": "markdown",
   "source": "## Tensor Data Types",
   "id": "471fbf089a0555e"
  },
  {
   "metadata": {
    "ExecuteTime": {
     "end_time": "2025-09-21T01:20:45.973647Z",
     "start_time": "2025-09-21T01:20:45.968521Z"
    }
   },
   "cell_type": "code",
   "source": [
    "# find data type\n",
    "b.dtype"
   ],
   "id": "cd52e6a4b4c1bea9",
   "outputs": [
    {
     "data": {
      "text/plain": [
       "torch.float32"
      ]
     },
     "execution_count": 61,
     "metadata": {},
     "output_type": "execute_result"
    }
   ],
   "execution_count": 61
  },
  {
   "metadata": {
    "ExecuteTime": {
     "end_time": "2025-09-21T01:22:24.670027Z",
     "start_time": "2025-09-21T01:22:24.665334Z"
    }
   },
   "cell_type": "code",
   "source": [
    "# assign data type\n",
    "torch.tensor([0.2,0.2,0.3], dtype=torch.int32)"
   ],
   "id": "89cf6c07b866d2e6",
   "outputs": [
    {
     "data": {
      "text/plain": [
       "tensor([0, 0, 0], dtype=torch.int32)"
      ]
     },
     "execution_count": 64,
     "metadata": {},
     "output_type": "execute_result"
    }
   ],
   "execution_count": 64
  },
  {
   "metadata": {
    "ExecuteTime": {
     "end_time": "2025-09-21T01:23:14.214049Z",
     "start_time": "2025-09-21T01:23:14.209233Z"
    }
   },
   "cell_type": "code",
   "source": "torch.tensor([1,2,3], dtype=torch.float16)",
   "id": "40b445b9b8dd98da",
   "outputs": [
    {
     "data": {
      "text/plain": [
       "tensor([1., 2., 3.], dtype=torch.float16)"
      ]
     },
     "execution_count": 66,
     "metadata": {},
     "output_type": "execute_result"
    }
   ],
   "execution_count": 66
  },
  {
   "metadata": {},
   "cell_type": "markdown",
   "source": [
    "| **Data Type**             | **Dtype**         | **Description**                                                                                                                                                                |\n",
    "|---------------------------|-------------------|--------------------------------------------------------------------------------------------------------------------------------------------------------------------------------|\n",
    "| **32-bit Floating Point** | `torch.float32`   | Standard floating-point type used for most deep learning tasks. Provides a balance between precision and memory usage.                                                         |\n",
    "| **64-bit Floating Point** | `torch.float64`   | Double-precision floating point. Useful for high-precision numerical tasks but uses more memory.                                                                               |\n",
    "| **16-bit Floating Point** | `torch.float16`   | Half-precision floating point. Commonly used in mixed-precision training to reduce memory and computational overhead on modern GPUs.                                            |\n",
    "| **BFloat16**              | `torch.bfloat16`  | Brain floating-point format with reduced precision compared to `float16`. Used in mixed-precision training, especially on TPUs.                                                |\n",
    "| **8-bit Floating Point**  | `torch.float8`    | Ultra-low-precision floating point. Used for experimental applications and extreme memory-constrained environments (less common).                                               |\n",
    "| **8-bit Integer**         | `torch.int8`      | 8-bit signed integer. Used for quantized models to save memory and computation in inference.                                                                                   |\n",
    "| **16-bit Integer**        | `torch.int16`     | 16-bit signed integer. Useful for special numerical tasks requiring intermediate precision.                                                                                    |\n",
    "| **32-bit Integer**        | `torch.int32`     | Standard signed integer type. Commonly used for indexing and general-purpose numerical tasks.                                                                                  |\n",
    "| **64-bit Integer**        | `torch.int64`     | Long integer type. Often used for large indexing arrays or for tasks involving large numbers.                                                                                  |\n",
    "| **8-bit Unsigned Integer**| `torch.uint8`     | 8-bit unsigned integer. Commonly used for image data (e.g., pixel values between 0 and 255).                                                                                    |\n",
    "| **Boolean**               | `torch.bool`      | Boolean type, stores `True` or `False` values. Often used for masks in logical operations.                                                                                      |\n",
    "| **Complex 64**            | `torch.complex64` | Complex number type with 32-bit real and 32-bit imaginary parts. Used for scientific and signal processing tasks.                                                               |\n",
    "| **Complex 128**           | `torch.complex128`| Complex number type with 64-bit real and 64-bit imaginary parts. Offers higher precision but uses more memory.                                                                 |\n",
    "| **Quantized Integer**     | `torch.qint8`     | Quantized signed 8-bit integer. Used in quantized models for efficient inference.                                                                                              |\n",
    "| **Quantized Unsigned Integer** | `torch.quint8` | Quantized unsigned 8-bit integer. Often used for quantized tensors in image-related tasks.                                                                                     |\n"
   ],
   "id": "d890d48a4224b87f"
  },
  {
   "metadata": {},
   "cell_type": "markdown",
   "source": "### 1. Scalar operation",
   "id": "3fe178d48565dc58"
  },
  {
   "metadata": {
    "ExecuteTime": {
     "end_time": "2025-09-21T01:29:09.949437Z",
     "start_time": "2025-09-21T01:29:09.946620Z"
    }
   },
   "cell_type": "code",
   "source": [
    "x = torch.rand(2,2)\n",
    "x"
   ],
   "id": "6aef096b964c84d3",
   "outputs": [
    {
     "data": {
      "text/plain": [
       "tensor([[0.1157, 0.6574],\n",
       "        [0.3451, 0.0453]])"
      ]
     },
     "execution_count": 67,
     "metadata": {},
     "output_type": "execute_result"
    }
   ],
   "execution_count": 67
  },
  {
   "metadata": {
    "ExecuteTime": {
     "end_time": "2025-09-21T01:29:50.404417Z",
     "start_time": "2025-09-21T01:29:50.398880Z"
    }
   },
   "cell_type": "code",
   "source": [
    "# addition\n",
    "x + 2\n",
    "# substraction\n",
    "x - 2\n",
    "# multiplication\n",
    "x * 3\n",
    "# division\n",
    "x / 3\n",
    "# int division\n",
    "(x * 100)//3\n",
    "# mod\n",
    "((x * 100)//3)%2\n",
    "# power\n",
    "x**2"
   ],
   "id": "150faf4cabdf10e7",
   "outputs": [
    {
     "data": {
      "text/plain": [
       "tensor([[0.0134, 0.4321],\n",
       "        [0.1191, 0.0021]])"
      ]
     },
     "execution_count": 72,
     "metadata": {},
     "output_type": "execute_result"
    }
   ],
   "execution_count": 72
  }
 ],
 "metadata": {
  "kernelspec": {
   "display_name": "Python 3",
   "language": "python",
   "name": "python3"
  },
  "language_info": {
   "codemirror_mode": {
    "name": "ipython",
    "version": 2
   },
   "file_extension": ".py",
   "mimetype": "text/x-python",
   "name": "python",
   "nbconvert_exporter": "python",
   "pygments_lexer": "ipython2",
   "version": "2.7.6"
  }
 },
 "nbformat": 4,
 "nbformat_minor": 5
}
